{
 "cells": [
  {
   "cell_type": "code",
   "execution_count": 1,
   "id": "fabc0e13",
   "metadata": {},
   "outputs": [],
   "source": [
    "import urllib.request "
   ]
  },
  {
   "cell_type": "code",
   "execution_count": 2,
   "id": "dfd0b452",
   "metadata": {},
   "outputs": [],
   "source": [
    "from urllib.request import urlopen"
   ]
  },
  {
   "cell_type": "code",
   "execution_count": 3,
   "id": "412aa41f",
   "metadata": {},
   "outputs": [],
   "source": [
    "import ssl\n",
    "ssl._create_default_https_context = ssl._create_unverified_context"
   ]
  },
  {
   "cell_type": "code",
   "execution_count": 4,
   "id": "dd5ea173",
   "metadata": {},
   "outputs": [],
   "source": [
    "data = 'https://www.snapdeal.com/search?keyword=phone&santizedKeyword=&catId=&categoryId=0&suggested=false&vertical=&noOfResults=20&searchState=&clickSrc=go_header&lastKeyword=&prodCatId=&changeBackToAll=false&foundInAll=false&categoryIdSearched=&cityPageUrl=&categoryUrl=&url=&utmContent=&dealDetail=&sort=rlvncy'"
   ]
  },
  {
   "cell_type": "code",
   "execution_count": 5,
   "id": "31820480",
   "metadata": {},
   "outputs": [],
   "source": [
    "data = urlopen(data)"
   ]
  },
  {
   "cell_type": "code",
   "execution_count": 6,
   "id": "1de3f42f",
   "metadata": {},
   "outputs": [],
   "source": [
    "data_html = data.read()"
   ]
  },
  {
   "cell_type": "code",
   "execution_count": 7,
   "id": "d57c471d",
   "metadata": {},
   "outputs": [],
   "source": [
    "from bs4 import BeautifulSoup as soup"
   ]
  },
  {
   "cell_type": "code",
   "execution_count": 8,
   "id": "45e82eba",
   "metadata": {},
   "outputs": [],
   "source": [
    "data_soup = soup(data_html, 'html.parser')"
   ]
  },
  {
   "cell_type": "code",
   "execution_count": 9,
   "id": "b1010b30",
   "metadata": {},
   "outputs": [],
   "source": [
    "images_div = data_soup.find('div', {'class':'product-row js-product-list centerCardAfterLoadWidgets dp-click-widgets', 'id':'products'})"
   ]
  },
  {
   "cell_type": "code",
   "execution_count": 10,
   "id": "0f29f6ec",
   "metadata": {},
   "outputs": [],
   "source": [
    "image_div = images_div.find_all('div', {'class': 'col-xs-6 favDp product-tuple-listing js-tuple'})"
   ]
  },
  {
   "cell_type": "code",
   "execution_count": 11,
   "id": "05656d8f",
   "metadata": {},
   "outputs": [],
   "source": [
    "i=1"
   ]
  },
  {
   "cell_type": "code",
   "execution_count": 12,
   "id": "9e1e2115",
   "metadata": {
    "scrolled": true
   },
   "outputs": [],
   "source": [
    "for im in image_div:\n",
    "    img_div = im.find('div', {'class':'product-tuple-image'})\n",
    "    sub = img_div.find('a')\n",
    "    pic = sub.find('picture')\n",
    "    try:\n",
    "        img_src = pic.img['src']\n",
    "    except KeyError:\n",
    "        img_src = pic.img['data-src']\n",
    "    file_name = str(i)\n",
    "    i+=1\n",
    "    img_file = open('/Users/pranavgrover/Desktop/Data Science/Jupyter Noteboook/Data Science/image/' + file_name + '.jpg', 'wb')\n",
    "    img_file.write(urlopen(img_src).read())\n",
    "    img_file.close()"
   ]
  },
  {
   "cell_type": "code",
   "execution_count": null,
   "id": "5123fb5e",
   "metadata": {},
   "outputs": [],
   "source": []
  }
 ],
 "metadata": {
  "kernelspec": {
   "display_name": "Python 3 (ipykernel)",
   "language": "python",
   "name": "python3"
  },
  "language_info": {
   "codemirror_mode": {
    "name": "ipython",
    "version": 3
   },
   "file_extension": ".py",
   "mimetype": "text/x-python",
   "name": "python",
   "nbconvert_exporter": "python",
   "pygments_lexer": "ipython3",
   "version": "3.10.11"
  }
 },
 "nbformat": 4,
 "nbformat_minor": 5
}
